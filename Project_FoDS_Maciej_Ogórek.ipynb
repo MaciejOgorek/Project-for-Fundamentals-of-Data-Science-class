{
 "cells": [
  {
   "cell_type": "code",
   "execution_count": 513,
   "metadata": {},
   "outputs": [],
   "source": [
    "import matplotlib.pyplot as plt\n",
    "import numpy as np\n",
    "import pandas as pd\n",
    "import seaborn as sns"
   ]
  },
  {
   "cell_type": "code",
   "execution_count": 514,
   "metadata": {},
   "outputs": [],
   "source": [
    "import tensorflow as tf\n",
    "from tensorflow import keras\n",
    "from tensorflow.keras import layers\n",
    "from tensorflow.keras.layers.experimental import preprocessing"
   ]
  },
  {
   "cell_type": "code",
   "execution_count": 661,
   "metadata": {},
   "outputs": [],
   "source": [
    "from sklearn.preprocessing import MinMaxScaler\n",
    "from sklearn.cluster import KMeans\n",
    "from numpy import unique\n",
    "from numpy import where\n",
    "from sklearn.datasets import make_classification\n",
    "from numpy import cov\n",
    "from scipy.stats import pearsonr"
   ]
  },
  {
   "cell_type": "code",
   "execution_count": 515,
   "metadata": {},
   "outputs": [
    {
     "data": {
      "text/html": [
       "<div>\n",
       "<style scoped>\n",
       "    .dataframe tbody tr th:only-of-type {\n",
       "        vertical-align: middle;\n",
       "    }\n",
       "\n",
       "    .dataframe tbody tr th {\n",
       "        vertical-align: top;\n",
       "    }\n",
       "\n",
       "    .dataframe thead th {\n",
       "        text-align: right;\n",
       "    }\n",
       "</style>\n",
       "<table border=\"1\" class=\"dataframe\">\n",
       "  <thead>\n",
       "    <tr style=\"text-align: right;\">\n",
       "      <th></th>\n",
       "      <th>restaurant_link</th>\n",
       "      <th>restaurant_name</th>\n",
       "      <th>original_location</th>\n",
       "      <th>country</th>\n",
       "      <th>region</th>\n",
       "      <th>province</th>\n",
       "      <th>city</th>\n",
       "      <th>address</th>\n",
       "      <th>latitude</th>\n",
       "      <th>longitude</th>\n",
       "      <th>...</th>\n",
       "      <th>excellent</th>\n",
       "      <th>very_good</th>\n",
       "      <th>average</th>\n",
       "      <th>poor</th>\n",
       "      <th>terrible</th>\n",
       "      <th>food</th>\n",
       "      <th>service</th>\n",
       "      <th>value</th>\n",
       "      <th>atmosphere</th>\n",
       "      <th>keywords</th>\n",
       "    </tr>\n",
       "  </thead>\n",
       "  <tbody>\n",
       "    <tr>\n",
       "      <th>999991</th>\n",
       "      <td>g189112-d13350039</td>\n",
       "      <td>Ti Gracinda</td>\n",
       "      <td>[\"Europe\", \"Portugal\", \"Algarve\", \"Faro Distri...</td>\n",
       "      <td>Portugal</td>\n",
       "      <td>Algarve</td>\n",
       "      <td>Faro District</td>\n",
       "      <td>Albufeira</td>\n",
       "      <td>Tv. dos Telheiros 2B, Albufeira 8200-212 Portugal</td>\n",
       "      <td>37.08838</td>\n",
       "      <td>-8.249867</td>\n",
       "      <td>...</td>\n",
       "      <td>23.0</td>\n",
       "      <td>4.0</td>\n",
       "      <td>0.0</td>\n",
       "      <td>1.0</td>\n",
       "      <td>1.0</td>\n",
       "      <td>4.0</td>\n",
       "      <td>4.0</td>\n",
       "      <td>4.0</td>\n",
       "      <td>NaN</td>\n",
       "      <td>NaN</td>\n",
       "    </tr>\n",
       "  </tbody>\n",
       "</table>\n",
       "<p>1 rows × 42 columns</p>\n",
       "</div>"
      ],
      "text/plain": [
       "          restaurant_link restaurant_name  \\\n",
       "999991  g189112-d13350039     Ti Gracinda   \n",
       "\n",
       "                                        original_location   country   region  \\\n",
       "999991  [\"Europe\", \"Portugal\", \"Algarve\", \"Faro Distri...  Portugal  Algarve   \n",
       "\n",
       "             province       city  \\\n",
       "999991  Faro District  Albufeira   \n",
       "\n",
       "                                                  address  latitude  \\\n",
       "999991  Tv. dos Telheiros 2B, Albufeira 8200-212 Portugal  37.08838   \n",
       "\n",
       "        longitude  ... excellent very_good average poor terrible food service  \\\n",
       "999991  -8.249867  ...      23.0       4.0     0.0  1.0      1.0  4.0     4.0   \n",
       "\n",
       "       value atmosphere keywords  \n",
       "999991   4.0        NaN      NaN  \n",
       "\n",
       "[1 rows x 42 columns]"
      ]
     },
     "execution_count": 515,
     "metadata": {},
     "output_type": "execute_result"
    }
   ],
   "source": [
    "df = pd.read_csv(r\"C:\\Users\\Maciek\\Downloads\\archive (1)\\tripadvisor_european_restaurants.csv\", low_memory = False)\n",
    "df.sample()"
   ]
  },
  {
   "cell_type": "code",
   "execution_count": 516,
   "metadata": {},
   "outputs": [],
   "source": [
    "df = df[df.country == 'Poland']"
   ]
  },
  {
   "cell_type": "code",
   "execution_count": 517,
   "metadata": {
    "scrolled": true
   },
   "outputs": [
    {
     "data": {
      "text/plain": [
       "restaurant_link                          0\n",
       "restaurant_name                          0\n",
       "original_location                        0\n",
       "country                                  0\n",
       "region                                   0\n",
       "province                                 1\n",
       "city                                 24698\n",
       "address                                  0\n",
       "latitude                               802\n",
       "longitude                              802\n",
       "claimed                                 53\n",
       "awards                               21081\n",
       "popularity_detailed                   3864\n",
       "popularity_generic                    3921\n",
       "top_tags                              3636\n",
       "price_level                           8670\n",
       "price_range                          15954\n",
       "meals                                11974\n",
       "cuisines                              5665\n",
       "special_diets                        21167\n",
       "features                             20896\n",
       "vegetarian_friendly                      0\n",
       "vegan_options                            0\n",
       "gluten_free                              0\n",
       "original_open_hours                  11324\n",
       "open_days_per_week                   11324\n",
       "open_hours_per_week                  11324\n",
       "working_shifts_per_week              11324\n",
       "avg_rating                            3938\n",
       "total_reviews_count                    971\n",
       "default_language                      3920\n",
       "reviews_count_in_default_language     3920\n",
       "excellent                             3920\n",
       "very_good                             3920\n",
       "average                               3920\n",
       "poor                                  3920\n",
       "terrible                              3920\n",
       "food                                 14639\n",
       "service                              14570\n",
       "value                                14633\n",
       "atmosphere                           22610\n",
       "keywords                             23768\n",
       "dtype: int64"
      ]
     },
     "execution_count": 517,
     "metadata": {},
     "output_type": "execute_result"
    }
   ],
   "source": [
    "df.isna().sum()"
   ]
  },
  {
   "cell_type": "code",
   "execution_count": 518,
   "metadata": {
    "scrolled": true
   },
   "outputs": [
    {
     "name": "stdout",
     "output_type": "stream",
     "text": [
      "<class 'pandas.core.frame.DataFrame'>\n",
      "Int64Index: 24698 entries, 886009 to 910706\n",
      "Data columns (total 42 columns):\n",
      " #   Column                             Non-Null Count  Dtype  \n",
      "---  ------                             --------------  -----  \n",
      " 0   restaurant_link                    24698 non-null  object \n",
      " 1   restaurant_name                    24698 non-null  object \n",
      " 2   original_location                  24698 non-null  object \n",
      " 3   country                            24698 non-null  object \n",
      " 4   region                             24698 non-null  object \n",
      " 5   province                           24697 non-null  object \n",
      " 6   city                               0 non-null      object \n",
      " 7   address                            24698 non-null  object \n",
      " 8   latitude                           23896 non-null  float64\n",
      " 9   longitude                          23896 non-null  float64\n",
      " 10  claimed                            24645 non-null  object \n",
      " 11  awards                             3617 non-null   object \n",
      " 12  popularity_detailed                20834 non-null  object \n",
      " 13  popularity_generic                 20777 non-null  object \n",
      " 14  top_tags                           21062 non-null  object \n",
      " 15  price_level                        16028 non-null  object \n",
      " 16  price_range                        8744 non-null   object \n",
      " 17  meals                              12724 non-null  object \n",
      " 18  cuisines                           19033 non-null  object \n",
      " 19  special_diets                      3531 non-null   object \n",
      " 20  features                           3802 non-null   object \n",
      " 21  vegetarian_friendly                24698 non-null  object \n",
      " 22  vegan_options                      24698 non-null  object \n",
      " 23  gluten_free                        24698 non-null  object \n",
      " 24  original_open_hours                13374 non-null  object \n",
      " 25  open_days_per_week                 13374 non-null  float64\n",
      " 26  open_hours_per_week                13374 non-null  float64\n",
      " 27  working_shifts_per_week            13374 non-null  float64\n",
      " 28  avg_rating                         20760 non-null  float64\n",
      " 29  total_reviews_count                23727 non-null  float64\n",
      " 30  default_language                   20778 non-null  object \n",
      " 31  reviews_count_in_default_language  20778 non-null  float64\n",
      " 32  excellent                          20778 non-null  float64\n",
      " 33  very_good                          20778 non-null  float64\n",
      " 34  average                            20778 non-null  float64\n",
      " 35  poor                               20778 non-null  float64\n",
      " 36  terrible                           20778 non-null  float64\n",
      " 37  food                               10059 non-null  float64\n",
      " 38  service                            10128 non-null  float64\n",
      " 39  value                              10065 non-null  float64\n",
      " 40  atmosphere                         2088 non-null   float64\n",
      " 41  keywords                           930 non-null    object \n",
      "dtypes: float64(17), object(25)\n",
      "memory usage: 8.1+ MB\n"
     ]
    }
   ],
   "source": [
    "df.info()"
   ]
  },
  {
   "cell_type": "code",
   "execution_count": 519,
   "metadata": {},
   "outputs": [],
   "source": [
    "df = df.drop(columns = \"region\")"
   ]
  },
  {
   "cell_type": "code",
   "execution_count": 520,
   "metadata": {},
   "outputs": [],
   "source": [
    "df = df.drop(columns = \"country\")"
   ]
  },
  {
   "cell_type": "code",
   "execution_count": 521,
   "metadata": {},
   "outputs": [],
   "source": [
    "df = df.drop(columns = \"restaurant_name\")"
   ]
  },
  {
   "cell_type": "code",
   "execution_count": 522,
   "metadata": {},
   "outputs": [],
   "source": [
    "df = df.drop(columns = \"original_location\")"
   ]
  },
  {
   "cell_type": "code",
   "execution_count": 523,
   "metadata": {},
   "outputs": [],
   "source": [
    "df = df.drop(columns = \"province\")"
   ]
  },
  {
   "cell_type": "code",
   "execution_count": 524,
   "metadata": {},
   "outputs": [],
   "source": [
    "df = df.drop(columns = \"city\")"
   ]
  },
  {
   "cell_type": "code",
   "execution_count": 525,
   "metadata": {},
   "outputs": [],
   "source": [
    "df = df.drop(columns = \"address\")"
   ]
  },
  {
   "cell_type": "code",
   "execution_count": 526,
   "metadata": {},
   "outputs": [],
   "source": [
    "df = df.drop(columns = \"restaurant_link\")"
   ]
  },
  {
   "cell_type": "code",
   "execution_count": 527,
   "metadata": {},
   "outputs": [],
   "source": [
    "df = df.drop(columns = \"default_language\")"
   ]
  },
  {
   "cell_type": "code",
   "execution_count": 528,
   "metadata": {
    "scrolled": true
   },
   "outputs": [],
   "source": [
    "df = df.drop(columns = \"keywords\")"
   ]
  },
  {
   "cell_type": "code",
   "execution_count": 529,
   "metadata": {},
   "outputs": [],
   "source": [
    "df = df.drop(columns = \"latitude\")"
   ]
  },
  {
   "cell_type": "code",
   "execution_count": 530,
   "metadata": {},
   "outputs": [],
   "source": [
    "df = df.drop(columns = \"longitude\")"
   ]
  },
  {
   "cell_type": "code",
   "execution_count": 531,
   "metadata": {},
   "outputs": [],
   "source": [
    "df = df.drop(columns = \"original_open_hours\")"
   ]
  },
  {
   "cell_type": "code",
   "execution_count": 532,
   "metadata": {},
   "outputs": [],
   "source": [
    "df = df.drop(columns = \"popularity_detailed\")"
   ]
  },
  {
   "cell_type": "code",
   "execution_count": 533,
   "metadata": {},
   "outputs": [],
   "source": [
    "df = df.drop(columns = \"popularity_generic\")"
   ]
  },
  {
   "cell_type": "code",
   "execution_count": 534,
   "metadata": {},
   "outputs": [],
   "source": [
    "df = df.drop(columns = \"meals\")"
   ]
  },
  {
   "cell_type": "code",
   "execution_count": 535,
   "metadata": {},
   "outputs": [],
   "source": [
    "df = df.drop(columns = \"cuisines\")"
   ]
  },
  {
   "cell_type": "code",
   "execution_count": 536,
   "metadata": {},
   "outputs": [],
   "source": [
    "df = df.drop(columns = \"reviews_count_in_default_language\")"
   ]
  },
  {
   "cell_type": "code",
   "execution_count": 537,
   "metadata": {},
   "outputs": [],
   "source": [
    "df = df.drop(columns = \"total_reviews_count\")"
   ]
  },
  {
   "cell_type": "code",
   "execution_count": 538,
   "metadata": {},
   "outputs": [],
   "source": [
    "df = df.drop(columns = \"price_range\")"
   ]
  },
  {
   "cell_type": "code",
   "execution_count": 539,
   "metadata": {},
   "outputs": [],
   "source": [
    "df = df.drop(columns = \"atmosphere\")"
   ]
  },
  {
   "cell_type": "code",
   "execution_count": 540,
   "metadata": {},
   "outputs": [],
   "source": [
    "df = df.drop(columns = \"awards\")"
   ]
  },
  {
   "cell_type": "code",
   "execution_count": 541,
   "metadata": {},
   "outputs": [],
   "source": [
    "df = df.drop(columns = \"top_tags\")"
   ]
  },
  {
   "cell_type": "code",
   "execution_count": 542,
   "metadata": {},
   "outputs": [],
   "source": [
    "df = df.drop(columns = \"special_diets\")"
   ]
  },
  {
   "cell_type": "code",
   "execution_count": 543,
   "metadata": {},
   "outputs": [],
   "source": [
    "df = df.drop(columns = \"features\")"
   ]
  },
  {
   "cell_type": "code",
   "execution_count": 544,
   "metadata": {
    "scrolled": true
   },
   "outputs": [
    {
     "name": "stdout",
     "output_type": "stream",
     "text": [
      "<class 'pandas.core.frame.DataFrame'>\n",
      "Int64Index: 24698 entries, 886009 to 910706\n",
      "Data columns (total 17 columns):\n",
      " #   Column                   Non-Null Count  Dtype  \n",
      "---  ------                   --------------  -----  \n",
      " 0   claimed                  24645 non-null  object \n",
      " 1   price_level              16028 non-null  object \n",
      " 2   vegetarian_friendly      24698 non-null  object \n",
      " 3   vegan_options            24698 non-null  object \n",
      " 4   gluten_free              24698 non-null  object \n",
      " 5   open_days_per_week       13374 non-null  float64\n",
      " 6   open_hours_per_week      13374 non-null  float64\n",
      " 7   working_shifts_per_week  13374 non-null  float64\n",
      " 8   avg_rating               20760 non-null  float64\n",
      " 9   excellent                20778 non-null  float64\n",
      " 10  very_good                20778 non-null  float64\n",
      " 11  average                  20778 non-null  float64\n",
      " 12  poor                     20778 non-null  float64\n",
      " 13  terrible                 20778 non-null  float64\n",
      " 14  food                     10059 non-null  float64\n",
      " 15  service                  10128 non-null  float64\n",
      " 16  value                    10065 non-null  float64\n",
      "dtypes: float64(12), object(5)\n",
      "memory usage: 3.4+ MB\n"
     ]
    }
   ],
   "source": [
    "df.info()"
   ]
  },
  {
   "cell_type": "code",
   "execution_count": 545,
   "metadata": {},
   "outputs": [],
   "source": [
    "df['vegetarian_friendly'] = df['vegetarian_friendly'].replace(['N', 'Y'], [0, 1])"
   ]
  },
  {
   "cell_type": "code",
   "execution_count": 546,
   "metadata": {},
   "outputs": [],
   "source": [
    "df['vegan_options'] = df['vegan_options'].replace(['N', 'Y'], [0, 1])"
   ]
  },
  {
   "cell_type": "code",
   "execution_count": 547,
   "metadata": {},
   "outputs": [],
   "source": [
    "df['gluten_free'] = df['gluten_free'].replace(['N', 'Y'], [0, 1])"
   ]
  },
  {
   "cell_type": "code",
   "execution_count": 548,
   "metadata": {},
   "outputs": [],
   "source": [
    "df['claimed'] = df['claimed'].fillna(0)"
   ]
  },
  {
   "cell_type": "code",
   "execution_count": 549,
   "metadata": {},
   "outputs": [],
   "source": [
    "df['price_level'] = df['price_level'].fillna(0)"
   ]
  },
  {
   "cell_type": "code",
   "execution_count": 550,
   "metadata": {},
   "outputs": [
    {
     "data": {
      "text/plain": [
       "€€-€€€    8976\n",
       "0         8670\n",
       "€         6710\n",
       "€€€€       342\n",
       "Name: price_level, dtype: int64"
      ]
     },
     "execution_count": 550,
     "metadata": {},
     "output_type": "execute_result"
    }
   ],
   "source": [
    "df['price_level'].value_counts()"
   ]
  },
  {
   "cell_type": "code",
   "execution_count": 551,
   "metadata": {},
   "outputs": [],
   "source": [
    "df['price_level'] = df['price_level'].replace(['€', '€€-€€€','€€€€'], [0, 1, 2])"
   ]
  },
  {
   "cell_type": "code",
   "execution_count": 552,
   "metadata": {},
   "outputs": [],
   "source": [
    "df['open_days_per_week'] = df['open_days_per_week'].fillna(7)"
   ]
  },
  {
   "cell_type": "code",
   "execution_count": 553,
   "metadata": {},
   "outputs": [],
   "source": [
    "df['working_shifts_per_week'] = df['working_shifts_per_week'].fillna(9)"
   ]
  },
  {
   "cell_type": "code",
   "execution_count": 554,
   "metadata": {},
   "outputs": [],
   "source": [
    "df['open_hours_per_week'] = df['open_hours_per_week'].fillna(56)"
   ]
  },
  {
   "cell_type": "code",
   "execution_count": 555,
   "metadata": {},
   "outputs": [],
   "source": [
    "df['excellent'] = df['excellent'].fillna(0)"
   ]
  },
  {
   "cell_type": "code",
   "execution_count": 556,
   "metadata": {},
   "outputs": [],
   "source": [
    "df['very_good'] = df['very_good'].fillna(0)"
   ]
  },
  {
   "cell_type": "code",
   "execution_count": 557,
   "metadata": {},
   "outputs": [],
   "source": [
    "df['average'] = df['average'].fillna(0)"
   ]
  },
  {
   "cell_type": "code",
   "execution_count": 558,
   "metadata": {},
   "outputs": [],
   "source": [
    "df['poor'] = df['poor'].fillna(0)"
   ]
  },
  {
   "cell_type": "code",
   "execution_count": 559,
   "metadata": {},
   "outputs": [],
   "source": [
    "df['terrible'] = df['terrible'].fillna(0)"
   ]
  },
  {
   "cell_type": "code",
   "execution_count": 560,
   "metadata": {},
   "outputs": [],
   "source": [
    "df['food'] = df['food'].fillna(0)"
   ]
  },
  {
   "cell_type": "code",
   "execution_count": 561,
   "metadata": {},
   "outputs": [],
   "source": [
    "df['service'] = df['service'].fillna(0)"
   ]
  },
  {
   "cell_type": "code",
   "execution_count": 562,
   "metadata": {},
   "outputs": [],
   "source": [
    "df['value'] = df['value'].fillna(0)"
   ]
  },
  {
   "cell_type": "code",
   "execution_count": 563,
   "metadata": {},
   "outputs": [],
   "source": [
    "df['claimed'] = df['claimed'].replace(['Unclaimed', 'Claimed'], [0, 1])"
   ]
  },
  {
   "cell_type": "code",
   "execution_count": 567,
   "metadata": {},
   "outputs": [
    {
     "data": {
      "text/plain": [
       "4.109489402697495"
      ]
     },
     "execution_count": 567,
     "metadata": {},
     "output_type": "execute_result"
    }
   ],
   "source": [
    "df.avg_rating.mean()"
   ]
  },
  {
   "cell_type": "code",
   "execution_count": 568,
   "metadata": {},
   "outputs": [],
   "source": [
    "df['avg_rating'] = df['avg_rating'].fillna(4.109489402697495/2)"
   ]
  },
  {
   "cell_type": "code",
   "execution_count": 569,
   "metadata": {
    "scrolled": false
   },
   "outputs": [
    {
     "name": "stdout",
     "output_type": "stream",
     "text": [
      "<class 'pandas.core.frame.DataFrame'>\n",
      "Int64Index: 24698 entries, 886009 to 910706\n",
      "Data columns (total 17 columns):\n",
      " #   Column                   Non-Null Count  Dtype  \n",
      "---  ------                   --------------  -----  \n",
      " 0   claimed                  24698 non-null  int64  \n",
      " 1   price_level              24698 non-null  int64  \n",
      " 2   vegetarian_friendly      24698 non-null  int64  \n",
      " 3   vegan_options            24698 non-null  int64  \n",
      " 4   gluten_free              24698 non-null  int64  \n",
      " 5   open_days_per_week       24698 non-null  float64\n",
      " 6   open_hours_per_week      24698 non-null  float64\n",
      " 7   working_shifts_per_week  24698 non-null  float64\n",
      " 8   avg_rating               24698 non-null  float64\n",
      " 9   excellent                24698 non-null  float64\n",
      " 10  very_good                24698 non-null  float64\n",
      " 11  average                  24698 non-null  float64\n",
      " 12  poor                     24698 non-null  float64\n",
      " 13  terrible                 24698 non-null  float64\n",
      " 14  food                     24698 non-null  float64\n",
      " 15  service                  24698 non-null  float64\n",
      " 16  value                    24698 non-null  float64\n",
      "dtypes: float64(12), int64(5)\n",
      "memory usage: 3.4 MB\n"
     ]
    }
   ],
   "source": [
    "df.info()"
   ]
  },
  {
   "cell_type": "code",
   "execution_count": 573,
   "metadata": {},
   "outputs": [
    {
     "data": {
      "text/html": [
       "<div>\n",
       "<style scoped>\n",
       "    .dataframe tbody tr th:only-of-type {\n",
       "        vertical-align: middle;\n",
       "    }\n",
       "\n",
       "    .dataframe tbody tr th {\n",
       "        vertical-align: top;\n",
       "    }\n",
       "\n",
       "    .dataframe thead th {\n",
       "        text-align: right;\n",
       "    }\n",
       "</style>\n",
       "<table border=\"1\" class=\"dataframe\">\n",
       "  <thead>\n",
       "    <tr style=\"text-align: right;\">\n",
       "      <th></th>\n",
       "      <th>mean</th>\n",
       "      <th>std</th>\n",
       "      <th>min</th>\n",
       "      <th>max</th>\n",
       "    </tr>\n",
       "  </thead>\n",
       "  <tbody>\n",
       "    <tr>\n",
       "      <th>claimed</th>\n",
       "      <td>0.375658</td>\n",
       "      <td>0.484302</td>\n",
       "      <td>0.0</td>\n",
       "      <td>1.000000</td>\n",
       "    </tr>\n",
       "    <tr>\n",
       "      <th>price_level</th>\n",
       "      <td>0.391125</td>\n",
       "      <td>0.515608</td>\n",
       "      <td>0.0</td>\n",
       "      <td>2.000000</td>\n",
       "    </tr>\n",
       "    <tr>\n",
       "      <th>vegetarian_friendly</th>\n",
       "      <td>0.139404</td>\n",
       "      <td>0.346375</td>\n",
       "      <td>0.0</td>\n",
       "      <td>1.000000</td>\n",
       "    </tr>\n",
       "    <tr>\n",
       "      <th>vegan_options</th>\n",
       "      <td>0.058831</td>\n",
       "      <td>0.235312</td>\n",
       "      <td>0.0</td>\n",
       "      <td>1.000000</td>\n",
       "    </tr>\n",
       "    <tr>\n",
       "      <th>gluten_free</th>\n",
       "      <td>0.031582</td>\n",
       "      <td>0.174887</td>\n",
       "      <td>0.0</td>\n",
       "      <td>1.000000</td>\n",
       "    </tr>\n",
       "    <tr>\n",
       "      <th>open_days_per_week</th>\n",
       "      <td>6.852782</td>\n",
       "      <td>0.551613</td>\n",
       "      <td>1.0</td>\n",
       "      <td>7.000000</td>\n",
       "    </tr>\n",
       "    <tr>\n",
       "      <th>open_hours_per_week</th>\n",
       "      <td>67.513497</td>\n",
       "      <td>24.131297</td>\n",
       "      <td>0.0</td>\n",
       "      <td>167.883333</td>\n",
       "    </tr>\n",
       "    <tr>\n",
       "      <th>working_shifts_per_week</th>\n",
       "      <td>7.794599</td>\n",
       "      <td>1.289164</td>\n",
       "      <td>1.0</td>\n",
       "      <td>14.000000</td>\n",
       "    </tr>\n",
       "    <tr>\n",
       "      <th>avg_rating</th>\n",
       "      <td>3.781868</td>\n",
       "      <td>1.001736</td>\n",
       "      <td>1.0</td>\n",
       "      <td>5.000000</td>\n",
       "    </tr>\n",
       "    <tr>\n",
       "      <th>excellent</th>\n",
       "      <td>8.498502</td>\n",
       "      <td>45.176975</td>\n",
       "      <td>0.0</td>\n",
       "      <td>3120.000000</td>\n",
       "    </tr>\n",
       "    <tr>\n",
       "      <th>very_good</th>\n",
       "      <td>3.687424</td>\n",
       "      <td>17.116831</td>\n",
       "      <td>0.0</td>\n",
       "      <td>787.000000</td>\n",
       "    </tr>\n",
       "    <tr>\n",
       "      <th>average</th>\n",
       "      <td>1.318852</td>\n",
       "      <td>6.099053</td>\n",
       "      <td>0.0</td>\n",
       "      <td>435.000000</td>\n",
       "    </tr>\n",
       "    <tr>\n",
       "      <th>poor</th>\n",
       "      <td>0.628067</td>\n",
       "      <td>2.742321</td>\n",
       "      <td>0.0</td>\n",
       "      <td>164.000000</td>\n",
       "    </tr>\n",
       "    <tr>\n",
       "      <th>terrible</th>\n",
       "      <td>0.757227</td>\n",
       "      <td>3.234466</td>\n",
       "      <td>0.0</td>\n",
       "      <td>132.000000</td>\n",
       "    </tr>\n",
       "    <tr>\n",
       "      <th>food</th>\n",
       "      <td>1.697121</td>\n",
       "      <td>2.077531</td>\n",
       "      <td>0.0</td>\n",
       "      <td>5.000000</td>\n",
       "    </tr>\n",
       "    <tr>\n",
       "      <th>service</th>\n",
       "      <td>1.701879</td>\n",
       "      <td>2.071220</td>\n",
       "      <td>0.0</td>\n",
       "      <td>5.000000</td>\n",
       "    </tr>\n",
       "    <tr>\n",
       "      <th>value</th>\n",
       "      <td>1.661430</td>\n",
       "      <td>2.035065</td>\n",
       "      <td>0.0</td>\n",
       "      <td>5.000000</td>\n",
       "    </tr>\n",
       "  </tbody>\n",
       "</table>\n",
       "</div>"
      ],
      "text/plain": [
       "                              mean        std  min          max\n",
       "claimed                   0.375658   0.484302  0.0     1.000000\n",
       "price_level               0.391125   0.515608  0.0     2.000000\n",
       "vegetarian_friendly       0.139404   0.346375  0.0     1.000000\n",
       "vegan_options             0.058831   0.235312  0.0     1.000000\n",
       "gluten_free               0.031582   0.174887  0.0     1.000000\n",
       "open_days_per_week        6.852782   0.551613  1.0     7.000000\n",
       "open_hours_per_week      67.513497  24.131297  0.0   167.883333\n",
       "working_shifts_per_week   7.794599   1.289164  1.0    14.000000\n",
       "avg_rating                3.781868   1.001736  1.0     5.000000\n",
       "excellent                 8.498502  45.176975  0.0  3120.000000\n",
       "very_good                 3.687424  17.116831  0.0   787.000000\n",
       "average                   1.318852   6.099053  0.0   435.000000\n",
       "poor                      0.628067   2.742321  0.0   164.000000\n",
       "terrible                  0.757227   3.234466  0.0   132.000000\n",
       "food                      1.697121   2.077531  0.0     5.000000\n",
       "service                   1.701879   2.071220  0.0     5.000000\n",
       "value                     1.661430   2.035065  0.0     5.000000"
      ]
     },
     "execution_count": 573,
     "metadata": {},
     "output_type": "execute_result"
    }
   ],
   "source": [
    "df.describe().transpose()[['mean', 'std', 'min', 'max']]"
   ]
  },
  {
   "cell_type": "code",
   "execution_count": 577,
   "metadata": {},
   "outputs": [
    {
     "data": {
      "text/plain": [
       "<AxesSubplot:xlabel='claimed'>"
      ]
     },
     "execution_count": 577,
     "metadata": {},
     "output_type": "execute_result"
    },
    {
     "data": {
      "image/png": "[encoded data removed]",
      "text/plain": [
       "<Figure size 432x288 with 1 Axes>"
      ]
     },
     "metadata": {
      "needs_background": "light"
     },
     "output_type": "display_data"
    }
   ],
   "source": [
    "sns.boxplot(x=df['claimed'])"
   ]
  },
  {
   "cell_type": "code",
   "execution_count": 578,
   "metadata": {},
   "outputs": [
    {
     "data": {
      "text/plain": [
       "<AxesSubplot:xlabel='price_level'>"
      ]
     },
     "execution_count": 578,
     "metadata": {},
     "output_type": "execute_result"
    },
    {
     "data": {
      "image/png": "[encoded data removed]",
      "text/plain": [
       "<Figure size 432x288 with 1 Axes>"
      ]
     },
     "metadata": {
      "needs_background": "light"
     },
     "output_type": "display_data"
    }
   ],
   "source": [
    "sns.boxplot(x=df['price_level'])"
   ]
  },
  {
   "cell_type": "code",
   "execution_count": 579,
   "metadata": {},
   "outputs": [
    {
     "data": {
      "text/plain": [
       "<matplotlib.collections.PathCollection at 0x1f521de5730>"
      ]
     },
     "execution_count": 579,
     "metadata": {},
     "output_type": "execute_result"
    },
    {
     "data": {
      "image/png": "[encoded data removed]",
      "text/plain": [
       "<Figure size 1296x720 with 1 Axes>"
      ]
     },
     "metadata": {
      "needs_background": "light"
     },
     "output_type": "display_data"
    }
   ],
   "source": [
    "fig, ax = plt.subplots(figsize = (18,10))\n",
    "ax.scatter(df['open_days_per_week'], df['open_hours_per_week'])"
   ]
  },
  {
   "cell_type": "code",
   "execution_count": 580,
   "metadata": {},
   "outputs": [
    {
     "data": {
      "text/plain": [
       "<AxesSubplot:xlabel='working_shifts_per_week'>"
      ]
     },
     "execution_count": 580,
     "metadata": {},
     "output_type": "execute_result"
    },
    {
     "data": {
      "image/png": "[encoded data removed]",
      "text/plain": [
       "<Figure size 432x288 with 1 Axes>"
      ]
     },
     "metadata": {
      "needs_background": "light"
     },
     "output_type": "display_data"
    }
   ],
   "source": [
    "sns.boxplot(x=df['working_shifts_per_week'])"
   ]
  },
  {
   "cell_type": "code",
   "execution_count": 581,
   "metadata": {},
   "outputs": [
    {
     "data": {
      "text/plain": [
       "<AxesSubplot:xlabel='avg_rating'>"
      ]
     },
     "execution_count": 581,
     "metadata": {},
     "output_type": "execute_result"
    },
    {
     "data": {
      "image/png": "[encoded data removed]",
      "text/plain": [
       "<Figure size 432x288 with 1 Axes>"
      ]
     },
     "metadata": {
      "needs_background": "light"
     },
     "output_type": "display_data"
    }
   ],
   "source": [
    "sns.boxplot(x=df['avg_rating'])"
   ]
  },
  {
   "cell_type": "code",
   "execution_count": 582,
   "metadata": {},
   "outputs": [
    {
     "data": {
      "text/plain": [
       "<AxesSubplot:xlabel='excellent'>"
      ]
     },
     "execution_count": 582,
     "metadata": {},
     "output_type": "execute_result"
    },
    {
     "data": {
      "image/png": "[encoded data removed]",
      "text/plain": [
       "<Figure size 432x288 with 1 Axes>"
      ]
     },
     "metadata": {
      "needs_background": "light"
     },
     "output_type": "display_data"
    }
   ],
   "source": [
    "sns.boxplot(x=df['excellent'])"
   ]
  },
  {
   "cell_type": "code",
   "execution_count": 583,
   "metadata": {},
   "outputs": [
    {
     "data": {
      "text/plain": [
       "<AxesSubplot:xlabel='very_good'>"
      ]
     },
     "execution_count": 583,
     "metadata": {},
     "output_type": "execute_result"
    },
    {
     "data": {
      "image/png": "[encoded data removed]",
      "text/plain": [
       "<Figure size 432x288 with 1 Axes>"
      ]
     },
     "metadata": {
      "needs_background": "light"
     },
     "output_type": "display_data"
    }
   ],
   "source": [
    "sns.boxplot(x=df['very_good'])"
   ]
  },
  {
   "cell_type": "code",
   "execution_count": 584,
   "metadata": {},
   "outputs": [
    {
     "data": {
      "text/plain": [
       "<AxesSubplot:xlabel='average'>"
      ]
     },
     "execution_count": 584,
     "metadata": {},
     "output_type": "execute_result"
    },
    {
     "data": {
      "image/png": "[encoded data removed]",
      "text/plain": [
       "<Figure size 432x288 with 1 Axes>"
      ]
     },
     "metadata": {
      "needs_background": "light"
     },
     "output_type": "display_data"
    }
   ],
   "source": [
    "sns.boxplot(x=df['average'])"
   ]
  },
  {
   "cell_type": "code",
   "execution_count": 585,
   "metadata": {},
   "outputs": [
    {
     "data": {
      "text/plain": [
       "<AxesSubplot:xlabel='poor'>"
      ]
     },
     "execution_count": 585,
     "metadata": {},
     "output_type": "execute_result"
    },
    {
     "data": {
      "image/png": "[encoded data removed]",
      "text/plain": [
       "<Figure size 432x288 with 1 Axes>"
      ]
     },
     "metadata": {
      "needs_background": "light"
     },
     "output_type": "display_data"
    }
   ],
   "source": [
    "sns.boxplot(x=df['poor'])"
   ]
  },
  {
   "cell_type": "code",
   "execution_count": 586,
   "metadata": {},
   "outputs": [
    {
     "data": {
      "text/plain": [
       "<AxesSubplot:xlabel='terrible'>"
      ]
     },
     "execution_count": 586,
     "metadata": {},
     "output_type": "execute_result"
    },
    {
     "data": {
      "image/png": "[encoded data removed]",
      "text/plain": [
       "<Figure size 432x288 with 1 Axes>"
      ]
     },
     "metadata": {
      "needs_background": "light"
     },
     "output_type": "display_data"
    }
   ],
   "source": [
    "sns.boxplot(x=df['terrible'])"
   ]
  },
  {
   "cell_type": "code",
   "execution_count": 587,
   "metadata": {},
   "outputs": [
    {
     "data": {
      "text/plain": [
       "<AxesSubplot:xlabel='food'>"
      ]
     },
     "execution_count": 587,
     "metadata": {},
     "output_type": "execute_result"
    },
    {
     "data": {
      "image/png": "[encoded data removed]",
      "text/plain": [
       "<Figure size 432x288 with 1 Axes>"
      ]
     },
     "metadata": {
      "needs_background": "light"
     },
     "output_type": "display_data"
    }
   ],
   "source": [
    "sns.boxplot(x=df['food'])"
   ]
  },
  {
   "cell_type": "code",
   "execution_count": 588,
   "metadata": {},
   "outputs": [
    {
     "data": {
      "text/plain": [
       "<AxesSubplot:xlabel='service'>"
      ]
     },
     "execution_count": 588,
     "metadata": {},
     "output_type": "execute_result"
    },
    {
     "data": {
      "image/png": "[encoded data removed]",
      "text/plain": [
       "<Figure size 432x288 with 1 Axes>"
      ]
     },
     "metadata": {
      "needs_background": "light"
     },
     "output_type": "display_data"
    }
   ],
   "source": [
    "sns.boxplot(x=df['service'])"
   ]
  },
  {
   "cell_type": "code",
   "execution_count": 589,
   "metadata": {},
   "outputs": [
    {
     "data": {
      "text/plain": [
       "<AxesSubplot:xlabel='value'>"
      ]
     },
     "execution_count": 589,
     "metadata": {},
     "output_type": "execute_result"
    },
    {
     "data": {
      "image/png": "[encoded data removed]",
      "text/plain": [
       "<Figure size 432x288 with 1 Axes>"
      ]
     },
     "metadata": {
      "needs_background": "light"
     },
     "output_type": "display_data"
    }
   ],
   "source": [
    "sns.boxplot(x=df['value'])"
   ]
  },
  {
   "cell_type": "code",
   "execution_count": 591,
   "metadata": {},
   "outputs": [],
   "source": [
    "cluster = df"
   ]
  },
  {
   "cell_type": "code",
   "execution_count": 592,
   "metadata": {},
   "outputs": [],
   "source": [
    "mms = MinMaxScaler()\n",
    "mms.fit(cluster)\n",
    "data_transformed = mms.transform(cluster)"
   ]
  },
  {
   "cell_type": "code",
   "execution_count": 597,
   "metadata": {},
   "outputs": [],
   "source": [
    "Sum_of_squared_distances = []\n",
    "K = range(1,10)\n",
    "for k in K:\n",
    "    km = KMeans(n_clusters=k)\n",
    "    km = km.fit(data_transformed)\n",
    "    Sum_of_squared_distances.append(km.inertia_)"
   ]
  },
  {
   "cell_type": "code",
   "execution_count": 598,
   "metadata": {},
   "outputs": [
    {
     "data": {
      "image/png": "[encoded data removed]",
      "text/plain": [
       "<Figure size 432x288 with 1 Axes>"
      ]
     },
     "metadata": {
      "needs_background": "light"
     },
     "output_type": "display_data"
    }
   ],
   "source": [
    "plt.plot(K, Sum_of_squared_distances, 'bx-')\n",
    "plt.xlabel('k')\n",
    "plt.ylabel('Sum_of_squared_distances')\n",
    "plt.title('Elbow Method For Optimal k')\n",
    "plt.show()"
   ]
  },
  {
   "cell_type": "code",
   "execution_count": 616,
   "metadata": {},
   "outputs": [],
   "source": [
    "X, _ = make_classification(n_samples=1000, n_features=2, n_informative=2, n_redundant=0, n_clusters_per_class=1, random_state=4)"
   ]
  },
  {
   "cell_type": "code",
   "execution_count": 617,
   "metadata": {},
   "outputs": [
    {
     "data": {
      "text/plain": [
       "KMeans(n_clusters=2)"
      ]
     },
     "execution_count": 617,
     "metadata": {},
     "output_type": "execute_result"
    }
   ],
   "source": [
    "model = KMeans(n_clusters=2)\n",
    "model.fit(X)"
   ]
  },
  {
   "cell_type": "code",
   "execution_count": 618,
   "metadata": {},
   "outputs": [],
   "source": [
    "yhat = model.predict(X)\n",
    "clusters = unique(yhat)"
   ]
  },
  {
   "cell_type": "code",
   "execution_count": 619,
   "metadata": {},
   "outputs": [
    {
     "data": {
      "image/png": "[encoded data removed]",
      "text/plain": [
       "<Figure size 432x288 with 1 Axes>"
      ]
     },
     "metadata": {
      "needs_background": "light"
     },
     "output_type": "display_data"
    }
   ],
   "source": [
    "for cluster in clusters:\n",
    "    row_ix = where(yhat == cluster)\n",
    "    plt.scatter(X[row_ix, 0], X[row_ix, 1])\n",
    "plt.show()"
   ]
  },
  {
   "cell_type": "code",
   "execution_count": 667,
   "metadata": {},
   "outputs": [],
   "source": [
    "pear, _ =  pearsonr(df.avg_rating, df.claimed)"
   ]
  },
  {
   "cell_type": "code",
   "execution_count": 668,
   "metadata": {},
   "outputs": [
    {
     "name": "stdout",
     "output_type": "stream",
     "text": [
      "0.26849398078191256\n"
     ]
    }
   ],
   "source": [
    "print(pear)"
   ]
  },
  {
   "cell_type": "code",
   "execution_count": 669,
   "metadata": {},
   "outputs": [],
   "source": [
    "pear, _ =  pearsonr(df.avg_rating, df.price_level)"
   ]
  },
  {
   "cell_type": "code",
   "execution_count": 670,
   "metadata": {},
   "outputs": [
    {
     "name": "stdout",
     "output_type": "stream",
     "text": [
      "0.20351258296287972\n"
     ]
    }
   ],
   "source": [
    "print(pear)"
   ]
  },
  {
   "cell_type": "code",
   "execution_count": 671,
   "metadata": {},
   "outputs": [],
   "source": [
    "pear, _ =  pearsonr(df.avg_rating, df.vegetarian_friendly)"
   ]
  },
  {
   "cell_type": "code",
   "execution_count": 672,
   "metadata": {},
   "outputs": [
    {
     "name": "stdout",
     "output_type": "stream",
     "text": [
      "0.18230732451365278\n"
     ]
    }
   ],
   "source": [
    "print(pear)"
   ]
  },
  {
   "cell_type": "code",
   "execution_count": 673,
   "metadata": {},
   "outputs": [],
   "source": [
    "pear, _ =  pearsonr(df.avg_rating, df.vegan_options)"
   ]
  },
  {
   "cell_type": "code",
   "execution_count": 674,
   "metadata": {},
   "outputs": [
    {
     "name": "stdout",
     "output_type": "stream",
     "text": [
      "0.1407207567915803\n"
     ]
    }
   ],
   "source": [
    "print(pear)"
   ]
  },
  {
   "cell_type": "code",
   "execution_count": 675,
   "metadata": {},
   "outputs": [],
   "source": [
    "pear, _ =  pearsonr(df.avg_rating, df.gluten_free)"
   ]
  },
  {
   "cell_type": "code",
   "execution_count": 676,
   "metadata": {},
   "outputs": [
    {
     "name": "stdout",
     "output_type": "stream",
     "text": [
      "0.10776230260222618\n"
     ]
    }
   ],
   "source": [
    "print(pear)"
   ]
  },
  {
   "cell_type": "code",
   "execution_count": 677,
   "metadata": {},
   "outputs": [],
   "source": [
    "pear, _ =  pearsonr(df.avg_rating, df.open_days_per_week)"
   ]
  },
  {
   "cell_type": "code",
   "execution_count": 678,
   "metadata": {},
   "outputs": [
    {
     "name": "stdout",
     "output_type": "stream",
     "text": [
      "-0.08531272277307349\n"
     ]
    }
   ],
   "source": [
    "print(pear)"
   ]
  },
  {
   "cell_type": "code",
   "execution_count": 679,
   "metadata": {},
   "outputs": [],
   "source": [
    "pear, _ =  pearsonr(df.avg_rating, df.open_hours_per_week)"
   ]
  },
  {
   "cell_type": "code",
   "execution_count": 680,
   "metadata": {},
   "outputs": [
    {
     "name": "stdout",
     "output_type": "stream",
     "text": [
      "-0.1959115717325771\n"
     ]
    }
   ],
   "source": [
    "print(pear)"
   ]
  },
  {
   "cell_type": "code",
   "execution_count": 681,
   "metadata": {},
   "outputs": [],
   "source": [
    "pear, _ =  pearsonr(df.avg_rating, df.working_shifts_per_week)"
   ]
  },
  {
   "cell_type": "code",
   "execution_count": 682,
   "metadata": {},
   "outputs": [
    {
     "name": "stdout",
     "output_type": "stream",
     "text": [
      "-0.11487516310817568\n"
     ]
    }
   ],
   "source": [
    "print(pear)"
   ]
  },
  {
   "cell_type": "code",
   "execution_count": 683,
   "metadata": {},
   "outputs": [],
   "source": [
    "pear, _ =  pearsonr(df.avg_rating, df.excellent)"
   ]
  },
  {
   "cell_type": "code",
   "execution_count": 684,
   "metadata": {},
   "outputs": [
    {
     "name": "stdout",
     "output_type": "stream",
     "text": [
      "0.104891093261611\n"
     ]
    }
   ],
   "source": [
    "print(pear)"
   ]
  },
  {
   "cell_type": "code",
   "execution_count": 685,
   "metadata": {},
   "outputs": [],
   "source": [
    "pear, _ =  pearsonr(df.avg_rating, df.very_good)"
   ]
  },
  {
   "cell_type": "code",
   "execution_count": 686,
   "metadata": {},
   "outputs": [
    {
     "name": "stdout",
     "output_type": "stream",
     "text": [
      "0.07826583524069713\n"
     ]
    }
   ],
   "source": [
    "print(pear)"
   ]
  },
  {
   "cell_type": "code",
   "execution_count": 687,
   "metadata": {},
   "outputs": [],
   "source": [
    "pear, _ =  pearsonr(df.avg_rating, df.average)"
   ]
  },
  {
   "cell_type": "code",
   "execution_count": 688,
   "metadata": {},
   "outputs": [
    {
     "name": "stdout",
     "output_type": "stream",
     "text": [
      "0.04541742766669098\n"
     ]
    }
   ],
   "source": [
    "print(pear)"
   ]
  },
  {
   "cell_type": "code",
   "execution_count": 689,
   "metadata": {},
   "outputs": [],
   "source": [
    "pear, _ =  pearsonr(df.avg_rating, df.poor)"
   ]
  },
  {
   "cell_type": "code",
   "execution_count": 690,
   "metadata": {},
   "outputs": [
    {
     "name": "stdout",
     "output_type": "stream",
     "text": [
      "0.02073421845377288\n"
     ]
    }
   ],
   "source": [
    "print(pear)"
   ]
  },
  {
   "cell_type": "code",
   "execution_count": 691,
   "metadata": {},
   "outputs": [],
   "source": [
    "pear, _ =  pearsonr(df.avg_rating, df.terrible)"
   ]
  },
  {
   "cell_type": "code",
   "execution_count": 692,
   "metadata": {},
   "outputs": [
    {
     "name": "stdout",
     "output_type": "stream",
     "text": [
      "-0.028069473993855537\n"
     ]
    }
   ],
   "source": [
    "print(pear)"
   ]
  },
  {
   "cell_type": "code",
   "execution_count": 693,
   "metadata": {},
   "outputs": [],
   "source": [
    "pear, _ =  pearsonr(df.avg_rating, df.food)"
   ]
  },
  {
   "cell_type": "code",
   "execution_count": 694,
   "metadata": {},
   "outputs": [
    {
     "name": "stdout",
     "output_type": "stream",
     "text": [
      "0.2996473700779129\n"
     ]
    }
   ],
   "source": [
    "print(pear)"
   ]
  },
  {
   "cell_type": "code",
   "execution_count": 695,
   "metadata": {},
   "outputs": [],
   "source": [
    "pear, _ =  pearsonr(df.avg_rating, df.service)"
   ]
  },
  {
   "cell_type": "code",
   "execution_count": 696,
   "metadata": {},
   "outputs": [
    {
     "name": "stdout",
     "output_type": "stream",
     "text": [
      "0.2991681221982498\n"
     ]
    }
   ],
   "source": [
    "print(pear)"
   ]
  },
  {
   "cell_type": "code",
   "execution_count": 697,
   "metadata": {},
   "outputs": [],
   "source": [
    "pear, _ =  pearsonr(df.avg_rating, df.value)"
   ]
  },
  {
   "cell_type": "code",
   "execution_count": 698,
   "metadata": {},
   "outputs": [
    {
     "name": "stdout",
     "output_type": "stream",
     "text": [
      "0.3020495451493288\n"
     ]
    }
   ],
   "source": [
    "print(pear)"
   ]
  },
  {
   "cell_type": "code",
   "execution_count": 699,
   "metadata": {},
   "outputs": [],
   "source": [
    "train_dataset = df.sample(frac=0.8, random_state=0)\n",
    "test_dataset = df.drop(train_dataset.index)"
   ]
  },
  {
   "cell_type": "code",
   "execution_count": 700,
   "metadata": {},
   "outputs": [],
   "source": [
    "train_features = train_dataset.copy()\n",
    "test_features = test_dataset.copy()\n",
    "\n",
    "train_labels = train_features.pop('avg_rating')\n",
    "test_labels = test_features.pop('avg_rating')"
   ]
  },
  {
   "cell_type": "code",
   "execution_count": 701,
   "metadata": {},
   "outputs": [],
   "source": [
    "normalizer = preprocessing.Normalization()\n",
    "normalizer.adapt(np.array(train_features))"
   ]
  },
  {
   "cell_type": "code",
   "execution_count": 702,
   "metadata": {},
   "outputs": [
    {
     "name": "stdout",
     "output_type": "stream",
     "text": [
      "[3.7878329e-01 3.9093027e-01 1.4050005e-01 6.0279381e-02 3.2543778e-02\n",
      " 6.8520598e+00 6.7443253e+01 7.7924385e+00 8.5532446e+00 3.7136855e+00\n",
      " 1.3156190e+00 6.2577182e-01 7.5463104e-01 1.6960977e+00 1.7019688e+00\n",
      " 1.6601629e+00]\n"
     ]
    }
   ],
   "source": [
    "print(normalizer.mean.numpy())"
   ]
  },
  {
   "cell_type": "code",
   "execution_count": 703,
   "metadata": {},
   "outputs": [
    {
     "name": "stdout",
     "output_type": "stream",
     "text": [
      "First example: [[ 1.   1.   1.   0.   0.   7.  56.   9.   5.   0.   0.   0.   0.   5.\n",
      "   5.   4.5]]\n",
      "\n",
      "Normalized: [[ 1.28  1.18  2.47 -0.25 -0.18  0.27 -0.48  0.93 -0.09 -0.22 -0.22 -0.24\n",
      "  -0.25  1.59  1.59  1.39]]\n"
     ]
    }
   ],
   "source": [
    "first = np.array(train_features[:1])\n",
    "with np.printoptions(precision=2, suppress=True):\n",
    "    print('First example:', first)\n",
    "    print()\n",
    "    print('Normalized:', normalizer(first).numpy())"
   ]
  },
  {
   "cell_type": "code",
   "execution_count": 713,
   "metadata": {},
   "outputs": [],
   "source": [
    "def plot_loss(histpry):\n",
    "    plt.plot(history.history['loss'], label = 'loss')\n",
    "    plt.plot(history.history['val_loss'], label = 'val_loss')\n",
    "    #plt.ylim([0, 40])\n",
    "    plt.ylim([0, 2])\n",
    "    plt.xlabel('Epoch')\n",
    "    plt.ylabel('Error ')\n",
    "    plt.legend()\n",
    "    plt.grid(True)"
   ]
  },
  {
   "cell_type": "code",
   "execution_count": 714,
   "metadata": {},
   "outputs": [],
   "source": [
    "def build_and_compile_model(norm):\n",
    "    model = keras.Sequential([\n",
    "        norm,\n",
    "        layers.Dense(64, activation='relu'),\n",
    "        layers.Dense(64, activation='relu'),\n",
    "        layers.Dense(64, activation='relu'),\n",
    "        layers.Dense(1)\n",
    "    ])\n",
    "    \n",
    "    model.compile(\n",
    "        #loss='mean_absolute_percentage_error',\n",
    "        loss='mean_absolute_error',\n",
    "        optimizer = tf.keras.optimizers.Adam(0.001))\n",
    "    return model"
   ]
  },
  {
   "cell_type": "code",
   "execution_count": 715,
   "metadata": {},
   "outputs": [
    {
     "name": "stdout",
     "output_type": "stream",
     "text": [
      "Model: \"sequential_1\"\n",
      "_________________________________________________________________\n",
      "Layer (type)                 Output Shape              Param #   \n",
      "=================================================================\n",
      "normalization (Normalization (None, 16)                33        \n",
      "_________________________________________________________________\n",
      "dense_3 (Dense)              (None, 64)                1088      \n",
      "_________________________________________________________________\n",
      "dense_4 (Dense)              (None, 64)                4160      \n",
      "_________________________________________________________________\n",
      "dense_5 (Dense)              (None, 64)                4160      \n",
      "_________________________________________________________________\n",
      "dense_6 (Dense)              (None, 1)                 65        \n",
      "=================================================================\n",
      "Total params: 9,506\n",
      "Trainable params: 9,473\n",
      "Non-trainable params: 33\n",
      "_________________________________________________________________\n"
     ]
    }
   ],
   "source": [
    "dnn_model = build_and_compile_model(normalizer)\n",
    "dnn_model.summary()"
   ]
  },
  {
   "cell_type": "code",
   "execution_count": 716,
   "metadata": {},
   "outputs": [
    {
     "name": "stdout",
     "output_type": "stream",
     "text": [
      "Epoch 1/100\n",
      "494/494 [==============================] - 1s 761us/step - loss: 1.2084 - val_loss: 0.6469\n",
      "Epoch 2/100\n",
      "494/494 [==============================] - 0s 545us/step - loss: 0.6101 - val_loss: 0.5883\n",
      "Epoch 3/100\n",
      "494/494 [==============================] - 0s 552us/step - loss: 0.5754 - val_loss: 0.5658\n",
      "Epoch 4/100\n",
      "494/494 [==============================] - 0s 547us/step - loss: 0.5556 - val_loss: 0.5435\n",
      "Epoch 5/100\n",
      "494/494 [==============================] - 0s 547us/step - loss: 0.5196 - val_loss: 0.5660\n",
      "Epoch 6/100\n",
      "494/494 [==============================] - 0s 554us/step - loss: 0.5018 - val_loss: 0.4721\n",
      "Epoch 7/100\n",
      "494/494 [==============================] - 0s 554us/step - loss: 0.4573 - val_loss: 0.4060\n",
      "Epoch 8/100\n",
      "494/494 [==============================] - 0s 557us/step - loss: 0.3931 - val_loss: 0.3728\n",
      "Epoch 9/100\n",
      "494/494 [==============================] - 0s 561us/step - loss: 0.3749 - val_loss: 0.3861\n",
      "Epoch 10/100\n",
      "494/494 [==============================] - 0s 570us/step - loss: 0.3404 - val_loss: 0.3680\n",
      "Epoch 11/100\n",
      "494/494 [==============================] - 0s 563us/step - loss: 0.3240 - val_loss: 0.3297\n",
      "Epoch 12/100\n",
      "494/494 [==============================] - 0s 619us/step - loss: 0.3059 - val_loss: 0.3226\n",
      "Epoch 13/100\n",
      "494/494 [==============================] - 0s 591us/step - loss: 0.2976 - val_loss: 0.2725\n",
      "Epoch 14/100\n",
      "494/494 [==============================] - 0s 547us/step - loss: 0.2812 - val_loss: 0.2979\n",
      "Epoch 15/100\n",
      "494/494 [==============================] - 0s 539us/step - loss: 0.2740 - val_loss: 0.2987\n",
      "Epoch 16/100\n",
      "494/494 [==============================] - 0s 543us/step - loss: 0.2699 - val_loss: 0.2706\n",
      "Epoch 17/100\n",
      "494/494 [==============================] - 0s 595us/step - loss: 0.2545 - val_loss: 0.2556\n",
      "Epoch 18/100\n",
      "494/494 [==============================] - 0s 550us/step - loss: 0.2475 - val_loss: 0.2624\n",
      "Epoch 19/100\n",
      "494/494 [==============================] - 0s 548us/step - loss: 0.2507 - val_loss: 0.2542\n",
      "Epoch 20/100\n",
      "494/494 [==============================] - 0s 541us/step - loss: 0.2414 - val_loss: 0.2506\n",
      "Epoch 21/100\n",
      "494/494 [==============================] - 0s 552us/step - loss: 0.2417 - val_loss: 0.2400\n",
      "Epoch 22/100\n",
      "494/494 [==============================] - 0s 543us/step - loss: 0.2467 - val_loss: 0.2750\n",
      "Epoch 23/100\n",
      "494/494 [==============================] - 0s 541us/step - loss: 0.2318 - val_loss: 0.2602\n",
      "Epoch 24/100\n",
      "494/494 [==============================] - 0s 529us/step - loss: 0.2280 - val_loss: 0.2253\n",
      "Epoch 25/100\n",
      "494/494 [==============================] - 0s 565us/step - loss: 0.2340 - val_loss: 0.2499\n",
      "Epoch 26/100\n",
      "494/494 [==============================] - 0s 557us/step - loss: 0.2247 - val_loss: 0.2358\n",
      "Epoch 27/100\n",
      "494/494 [==============================] - 0s 556us/step - loss: 0.2287 - val_loss: 0.2950\n",
      "Epoch 28/100\n",
      "494/494 [==============================] - 0s 553us/step - loss: 0.2228 - val_loss: 0.2342\n",
      "Epoch 29/100\n",
      "494/494 [==============================] - 0s 550us/step - loss: 0.2257 - val_loss: 0.2352\n",
      "Epoch 30/100\n",
      "494/494 [==============================] - 0s 551us/step - loss: 0.2172 - val_loss: 0.2301\n",
      "Epoch 31/100\n",
      "494/494 [==============================] - 0s 562us/step - loss: 0.2151 - val_loss: 0.2296\n",
      "Epoch 32/100\n",
      "494/494 [==============================] - 0s 562us/step - loss: 0.2171 - val_loss: 0.2214\n",
      "Epoch 33/100\n",
      "494/494 [==============================] - 0s 557us/step - loss: 0.2170 - val_loss: 0.2331\n",
      "Epoch 34/100\n",
      "494/494 [==============================] - 0s 537us/step - loss: 0.2166 - val_loss: 0.2324\n",
      "Epoch 35/100\n",
      "494/494 [==============================] - 0s 560us/step - loss: 0.2161 - val_loss: 0.2249\n",
      "Epoch 36/100\n",
      "494/494 [==============================] - 0s 560us/step - loss: 0.2059 - val_loss: 0.2513\n",
      "Epoch 37/100\n",
      "494/494 [==============================] - 0s 555us/step - loss: 0.2158 - val_loss: 0.2214\n",
      "Epoch 38/100\n",
      "494/494 [==============================] - 0s 551us/step - loss: 0.2118 - val_loss: 0.2223\n",
      "Epoch 39/100\n",
      "494/494 [==============================] - 0s 563us/step - loss: 0.2063 - val_loss: 0.2072\n",
      "Epoch 40/100\n",
      "494/494 [==============================] - 0s 543us/step - loss: 0.2101 - val_loss: 0.2084\n",
      "Epoch 41/100\n",
      "494/494 [==============================] - 0s 558us/step - loss: 0.2124 - val_loss: 0.2281\n",
      "Epoch 42/100\n",
      "494/494 [==============================] - 0s 576us/step - loss: 0.2079 - val_loss: 0.2266\n",
      "Epoch 43/100\n",
      "494/494 [==============================] - 0s 585us/step - loss: 0.2017 - val_loss: 0.2053\n",
      "Epoch 44/100\n",
      "494/494 [==============================] - 0s 611us/step - loss: 0.2055 - val_loss: 0.2161\n",
      "Epoch 45/100\n",
      "494/494 [==============================] - 0s 574us/step - loss: 0.2035 - val_loss: 0.2315\n",
      "Epoch 46/100\n",
      "494/494 [==============================] - 0s 570us/step - loss: 0.2090 - val_loss: 0.2111\n",
      "Epoch 47/100\n",
      "494/494 [==============================] - 0s 564us/step - loss: 0.1971 - val_loss: 0.2129\n",
      "Epoch 48/100\n",
      "494/494 [==============================] - 0s 560us/step - loss: 0.2038 - val_loss: 0.2184\n",
      "Epoch 49/100\n",
      "494/494 [==============================] - 0s 581us/step - loss: 0.2037 - val_loss: 0.2058\n",
      "Epoch 50/100\n",
      "494/494 [==============================] - 0s 560us/step - loss: 0.1986 - val_loss: 0.2070\n",
      "Epoch 51/100\n",
      "494/494 [==============================] - 0s 549us/step - loss: 0.2019 - val_loss: 0.2086\n",
      "Epoch 52/100\n",
      "494/494 [==============================] - 0s 564us/step - loss: 0.1965 - val_loss: 0.2156\n",
      "Epoch 53/100\n",
      "494/494 [==============================] - 0s 543us/step - loss: 0.1966 - val_loss: 0.2277\n",
      "Epoch 54/100\n",
      "494/494 [==============================] - 0s 568us/step - loss: 0.2092 - val_loss: 0.2061\n",
      "Epoch 55/100\n",
      "494/494 [==============================] - 0s 548us/step - loss: 0.1997 - val_loss: 0.2196\n",
      "Epoch 56/100\n",
      "494/494 [==============================] - 0s 559us/step - loss: 0.1978 - val_loss: 0.2053\n",
      "Epoch 57/100\n",
      "494/494 [==============================] - 0s 560us/step - loss: 0.1959 - val_loss: 0.2076\n",
      "Epoch 58/100\n",
      "494/494 [==============================] - 0s 557us/step - loss: 0.1985 - val_loss: 0.2009\n",
      "Epoch 59/100\n",
      "494/494 [==============================] - 0s 559us/step - loss: 0.1980 - val_loss: 0.2177\n",
      "Epoch 60/100\n",
      "494/494 [==============================] - 0s 552us/step - loss: 0.2042 - val_loss: 0.2083\n",
      "Epoch 61/100\n",
      "494/494 [==============================] - 0s 548us/step - loss: 0.1934 - val_loss: 0.2072\n",
      "Epoch 62/100\n",
      "494/494 [==============================] - 0s 548us/step - loss: 0.1965 - val_loss: 0.2079\n",
      "Epoch 63/100\n",
      "494/494 [==============================] - 0s 548us/step - loss: 0.2071 - val_loss: 0.2025\n",
      "Epoch 64/100\n",
      "494/494 [==============================] - 0s 540us/step - loss: 0.2007 - val_loss: 0.2129\n",
      "Epoch 65/100\n",
      "494/494 [==============================] - 0s 605us/step - loss: 0.1964 - val_loss: 0.2175\n",
      "Epoch 66/100\n",
      "494/494 [==============================] - 0s 540us/step - loss: 0.1892 - val_loss: 0.2076\n",
      "Epoch 67/100\n",
      "494/494 [==============================] - 0s 552us/step - loss: 0.1917 - val_loss: 0.2417\n",
      "Epoch 68/100\n",
      "494/494 [==============================] - 0s 547us/step - loss: 0.2040 - val_loss: 0.2102\n",
      "Epoch 69/100\n",
      "494/494 [==============================] - 0s 567us/step - loss: 0.1889 - val_loss: 0.2119\n",
      "Epoch 70/100\n",
      "494/494 [==============================] - 0s 555us/step - loss: 0.1899 - val_loss: 0.2178\n",
      "Epoch 71/100\n",
      "494/494 [==============================] - 0s 548us/step - loss: 0.2059 - val_loss: 0.2574\n",
      "Epoch 72/100\n",
      "494/494 [==============================] - 0s 538us/step - loss: 0.1967 - val_loss: 0.2189\n",
      "Epoch 73/100\n",
      "494/494 [==============================] - 0s 542us/step - loss: 0.1977 - val_loss: 0.2013\n",
      "Epoch 74/100\n",
      "494/494 [==============================] - 0s 539us/step - loss: 0.1902 - val_loss: 0.2077\n",
      "Epoch 75/100\n",
      "494/494 [==============================] - 0s 541us/step - loss: 0.1870 - val_loss: 0.2059\n",
      "Epoch 76/100\n",
      "494/494 [==============================] - 0s 528us/step - loss: 0.1857 - val_loss: 0.2112\n",
      "Epoch 77/100\n",
      "494/494 [==============================] - 0s 548us/step - loss: 0.1939 - val_loss: 0.2043\n",
      "Epoch 78/100\n",
      "494/494 [==============================] - 0s 547us/step - loss: 0.1854 - val_loss: 0.2049\n",
      "Epoch 79/100\n",
      "494/494 [==============================] - 0s 561us/step - loss: 0.1894 - val_loss: 0.2044\n"
     ]
    },
    {
     "name": "stdout",
     "output_type": "stream",
     "text": [
      "Epoch 80/100\n",
      "494/494 [==============================] - 0s 540us/step - loss: 0.1872 - val_loss: 0.2165\n",
      "Epoch 81/100\n",
      "494/494 [==============================] - 0s 553us/step - loss: 0.1913 - val_loss: 0.1986\n",
      "Epoch 82/100\n",
      "494/494 [==============================] - 0s 557us/step - loss: 0.1855 - val_loss: 0.2024\n",
      "Epoch 83/100\n",
      "494/494 [==============================] - 0s 560us/step - loss: 0.1965 - val_loss: 0.2303\n",
      "Epoch 84/100\n",
      "494/494 [==============================] - 0s 538us/step - loss: 0.1974 - val_loss: 0.1975\n",
      "Epoch 85/100\n",
      "494/494 [==============================] - 0s 552us/step - loss: 0.1881 - val_loss: 0.2105\n",
      "Epoch 86/100\n",
      "494/494 [==============================] - 0s 545us/step - loss: 0.1847 - val_loss: 0.1967\n",
      "Epoch 87/100\n",
      "494/494 [==============================] - 0s 545us/step - loss: 0.1819 - val_loss: 0.1979\n",
      "Epoch 88/100\n",
      "494/494 [==============================] - 0s 546us/step - loss: 0.1927 - val_loss: 0.2048\n",
      "Epoch 89/100\n",
      "494/494 [==============================] - 0s 572us/step - loss: 0.1848 - val_loss: 0.1990\n",
      "Epoch 90/100\n",
      "494/494 [==============================] - 0s 548us/step - loss: 0.1802 - val_loss: 0.2136\n",
      "Epoch 91/100\n",
      "494/494 [==============================] - 0s 548us/step - loss: 0.1814 - val_loss: 0.2353\n",
      "Epoch 92/100\n",
      "494/494 [==============================] - 0s 536us/step - loss: 0.1874 - val_loss: 0.2041\n",
      "Epoch 93/100\n",
      "494/494 [==============================] - 0s 548us/step - loss: 0.1846 - val_loss: 0.2060\n",
      "Epoch 94/100\n",
      "494/494 [==============================] - 0s 576us/step - loss: 0.1788 - val_loss: 0.1922\n",
      "Epoch 95/100\n",
      "494/494 [==============================] - 0s 558us/step - loss: 0.1784 - val_loss: 0.2044\n",
      "Epoch 96/100\n",
      "494/494 [==============================] - 0s 560us/step - loss: 0.1804 - val_loss: 0.1999\n",
      "Epoch 97/100\n",
      "494/494 [==============================] - 0s 570us/step - loss: 0.1831 - val_loss: 0.2015\n",
      "Epoch 98/100\n",
      "494/494 [==============================] - 0s 609us/step - loss: 0.1804 - val_loss: 0.1984\n",
      "Epoch 99/100\n",
      "494/494 [==============================] - 0s 561us/step - loss: 0.1765 - val_loss: 0.1965\n",
      "Epoch 100/100\n",
      "494/494 [==============================] - 0s 557us/step - loss: 0.1825 - val_loss: 0.2218\n",
      "Wall time: 28.1 s\n"
     ]
    }
   ],
   "source": [
    "%%time\n",
    "history = dnn_model.fit(\n",
    "    train_features, train_labels,\n",
    "    validation_split = 0.2,\n",
    "    verbose=1, epochs = 100)"
   ]
  },
  {
   "cell_type": "code",
   "execution_count": 717,
   "metadata": {},
   "outputs": [
    {
     "data": {
      "image/png": "[encoded data removed]",
      "text/plain": [
       "<Figure size 432x288 with 1 Axes>"
      ]
     },
     "metadata": {
      "needs_background": "light"
     },
     "output_type": "display_data"
    }
   ],
   "source": [
    "plot_loss(history)"
   ]
  },
  {
   "cell_type": "code",
   "execution_count": 718,
   "metadata": {},
   "outputs": [
    {
     "data": {
      "image/png": "[encoded data removed]",
      "text/plain": [
       "<Figure size 432x288 with 1 Axes>"
      ]
     },
     "metadata": {
      "needs_background": "light"
     },
     "output_type": "display_data"
    }
   ],
   "source": [
    "test_predictions = dnn_model.predict(test_features).flatten()\n",
    "\n",
    "a = plt.axes(aspect='equal')\n",
    "plt.scatter(test_labels, test_predictions)\n",
    "plt.xlabel('True Values [avg_rating]')\n",
    "plt.ylabel('Predictions [avg_rating]')\n",
    "lims = [0, 10]\n",
    "plt.xlim(lims)\n",
    "plt.ylim(lims)\n",
    "_ = plt.plot(lims, lims)"
   ]
  },
  {
   "cell_type": "code",
   "execution_count": 719,
   "metadata": {},
   "outputs": [
    {
     "data": {
      "image/png": "[encoded data removed]",
      "text/plain": [
       "<Figure size 432x288 with 1 Axes>"
      ]
     },
     "metadata": {
      "needs_background": "light"
     },
     "output_type": "display_data"
    }
   ],
   "source": [
    "error = test_predictions - test_labels\n",
    "plt.hist(error, bins=25)\n",
    "plt.xlabel('Prediction Error [avg_rating]')\n",
    "_ = plt.ylabel('Count')"
   ]
  }
 ],
 "metadata": {
  "kernelspec": {
   "display_name": "Python 3",
   "language": "python",
   "name": "python3"
  },
  "language_info": {
   "codemirror_mode": {
    "name": "ipython",
    "version": 3
   },
   "file_extension": ".py",
   "mimetype": "text/x-python",
   "name": "python",
   "nbconvert_exporter": "python",
   "pygments_lexer": "ipython3",
   "version": "3.8.5"
  }
 },
 "nbformat": 4,
 "nbformat_minor": 4
}
